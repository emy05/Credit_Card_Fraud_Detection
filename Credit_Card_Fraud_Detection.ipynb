{
  "nbformat": 4,
  "nbformat_minor": 0,
  "metadata": {
    "colab": {
      "provenance": [],
      "authorship_tag": "ABX9TyPGC2DgJWhGtdn29UPvUflQ",
      "include_colab_link": true
    },
    "kernelspec": {
      "name": "python3",
      "display_name": "Python 3"
    },
    "language_info": {
      "name": "python"
    }
  },
  "cells": [
    {
      "cell_type": "markdown",
      "metadata": {
        "id": "view-in-github",
        "colab_type": "text"
      },
      "source": [
        "<a href=\"https://colab.research.google.com/github/emy05/Credit_Card_Fraud_Detection/blob/main/Credit_Card_Fraud_Detection.ipynb\" target=\"_parent\"><img src=\"https://colab.research.google.com/assets/colab-badge.svg\" alt=\"Open In Colab\"/></a>"
      ]
    },
    {
      "cell_type": "code",
      "execution_count": null,
      "metadata": {
        "id": "eVzzvXmQd4ih"
      },
      "outputs": [],
      "source": [
        "# import the necessary packages\n",
        "import numpy as np\n",
        "import pandas as pd\n",
        "import matplotlib.pyplot as plt\n",
        "import seaborn as sns\n",
        "from matplotlib import gridspec"
      ]
    },
    {
      "cell_type": "code",
      "source": [
        "# Load the dataset from the csv file using pandas\n",
        "# best way is to mount the drive on colab and\n",
        "# copy the path for the csv file\n",
        "data = pd.read_csv(\"creditcard.csv\")\n"
      ],
      "metadata": {
        "id": "TIFh8hQ3ftH_"
      },
      "execution_count": null,
      "outputs": []
    },
    {
      "cell_type": "code",
      "source": [
        "# Grab a peek at the data\n",
        "data.head()"
      ],
      "metadata": {
        "id": "7D_ZqEvhfyrY"
      },
      "execution_count": null,
      "outputs": []
    },
    {
      "cell_type": "code",
      "source": [
        "# Print the shape of the data\n",
        "# data = data.sample(frac = 0.1, random_state = 48)\n",
        "print(data.shape)\n",
        "print(data.describe())"
      ],
      "metadata": {
        "id": "TxIyHTRjf1XE"
      },
      "execution_count": null,
      "outputs": []
    },
    {
      "cell_type": "code",
      "source": [
        "# Determine number of fraud cases in dataset\n",
        "fraud = data[data['Class'] == 1]\n",
        "valid = data[data['Class'] == 0]\n",
        "outlierFraction = len(fraud)/float(len(valid))\n",
        "print(outlierFraction)\n",
        "print('Fraud Cases: {}'.format(len(data[data['Class'] == 1])))\n",
        "print('Valid Transactions: {}'.format(len(data[data['Class'] == 0])))\n"
      ],
      "metadata": {
        "id": "r6u0247wf5gJ"
      },
      "execution_count": null,
      "outputs": []
    },
    {
      "cell_type": "code",
      "source": [
        "print(\"Amount details of the fraudulent transaction\")\n",
        "fraud.Amount.describe()"
      ],
      "metadata": {
        "id": "rDDTmmRaf8jn"
      },
      "execution_count": null,
      "outputs": []
    },
    {
      "cell_type": "code",
      "source": [
        "print(\"details of valid transaction\")\n",
        "valid.Amount.describe()"
      ],
      "metadata": {
        "id": "hrQx-gzGgCYc"
      },
      "execution_count": null,
      "outputs": []
    },
    {
      "cell_type": "code",
      "source": [
        "# Correlation matrix\n",
        "corrmat = data.corr()\n",
        "fig = plt.figure(figsize = (12, 9))\n",
        "sns.heatmap(corrmat, vmax = .8, square = True)\n",
        "plt.show()"
      ],
      "metadata": {
        "id": "VMkwUFvxgHdU"
      },
      "execution_count": null,
      "outputs": []
    },
    {
      "cell_type": "markdown",
      "source": [
        "RandomForestClassifier"
      ],
      "metadata": {
        "id": "p8WVoXQfss6d"
      }
    },
    {
      "cell_type": "code",
      "source": [
        "import pandas as pd\n",
        "from sklearn.impute import SimpleImputer\n",
        "from sklearn.ensemble import RandomForestClassifier\n",
        "from sklearn.model_selection import train_test_split\n",
        "\n",
        "# Load the creditcard.csv file into a Pandas DataFrame\n",
        "df = pd.read_csv('creditcard.csv')\n",
        "\n",
        "# Split the DataFrame into input features (X) and target variable (y)\n",
        "X = df.drop('Class', axis=1)\n",
        "y = df['Class']\n",
        "\n",
        "# Split the data into training and testing sets\n",
        "X_train, X_test, y_train, y_test = train_test_split(X, y, test_size=0.2)\n",
        "\n",
        "# Create an imputer transformer to fill in NaN values with the median of the column\n",
        "imputer = SimpleImputer(strategy='median')\n",
        "\n",
        "# Fit the imputer transformer to the training data and transform both the training and testing data\n",
        "X_train_imputed = imputer.fit_transform(X_train)\n",
        "X_test_imputed = imputer.transform(X_test)\n",
        "\n",
        "# Train a RandomForestClassifier on the imputed training data and evaluate on the imputed testing data\n",
        "rfc = RandomForestClassifier()\n",
        "rfc.fit(X_train_imputed, y_train)\n",
        "score = rfc.score(X_test_imputed, y_test)\n",
        "\n",
        "print(f\"Accuracy: {score:.4f}\")\n"
      ],
      "metadata": {
        "id": "fE9jJfvOrZZK"
      },
      "execution_count": null,
      "outputs": []
    },
    {
      "cell_type": "markdown",
      "source": [
        "DecisionTreeClassifier"
      ],
      "metadata": {
        "id": "qYml913xsvdB"
      }
    },
    {
      "cell_type": "code",
      "source": [
        "# Train a DecisionTreeClassifier on the imputed training data and evaluate on the imputed testing data\n",
        "dtc = DecisionTreeClassifier()\n",
        "dtc.fit(X_train_imputed, y_train)\n",
        "score = dtc.score(X_test_imputed, y_test)\n",
        "\n",
        "print(f\"Accuracy: {score:.4f}\")"
      ],
      "metadata": {
        "id": "vf9bmQ2KuB5W"
      },
      "execution_count": null,
      "outputs": []
    },
    {
      "cell_type": "markdown",
      "source": [
        "LogisticRegression"
      ],
      "metadata": {
        "id": "qY1n8fnhvaHb"
      }
    },
    {
      "cell_type": "code",
      "source": [
        "from sklearn.linear_model import LogisticRegression\n",
        "from sklearn.impute import SimpleImputer\n",
        "\n",
        "imputer = SimpleImputer()\n",
        "X_imputed = imputer.fit_transform(X)\n",
        "model = LogisticRegression()\n",
        "model.fit(X_imputed, y)\n",
        "print(f\"Accuracy: {score:.4f}\")"
      ],
      "metadata": {
        "id": "3462BE7luLjd"
      },
      "execution_count": null,
      "outputs": []
    },
    {
      "cell_type": "markdown",
      "source": [
        "KNeighborsClassifier"
      ],
      "metadata": {
        "id": "DOv_Hlm8v0ot"
      }
    },
    {
      "cell_type": "code",
      "source": [
        "from sklearn.neighbors import KNeighborsClassifier\n",
        "from sklearn.impute import KNNImputer\n",
        "\n",
        "imputer = KNNImputer()\n",
        "X_imputed = imputer.fit_transform(X)\n",
        "model = KNeighborsClassifier()\n",
        "model.fit(X_imputed, y)\n",
        "print(f\"Accuracy: {score:.4f}\")"
      ],
      "metadata": {
        "id": "zV0V74Z6vnJX"
      },
      "execution_count": null,
      "outputs": []
    },
    {
      "cell_type": "markdown",
      "source": [
        "Support Vector Machines"
      ],
      "metadata": {
        "id": "b4WnWp_Rv4ub"
      }
    },
    {
      "cell_type": "code",
      "source": [
        "from sklearn.svm import SVC\n",
        "from sklearn.impute import SimpleImputer\n",
        "\n",
        "imputer = SimpleImputer()\n",
        "X_imputed = imputer.fit_transform(X)\n",
        "model = SVC()\n",
        "model.fit(X_imputed, y)\n",
        "print(f\"Accuracy: {score:.4f}\")"
      ],
      "metadata": {
        "id": "0HmGw5dRvsgc"
      },
      "execution_count": null,
      "outputs": []
    }
  ]
}